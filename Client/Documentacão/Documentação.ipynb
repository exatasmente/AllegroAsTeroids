{
 "cells": [
  {
   "cell_type": "markdown",
   "metadata": {},
   "source": [
    "# Tzil's Asteroids"
   ]
  },
  {
   "cell_type": "markdown",
   "metadata": {},
   "source": [
    "## Bibliotecas:\n"
   ]
  },
  {
   "cell_type": "markdown",
   "metadata": {},
   "source": [
    "Allegro5 e suas dependências (Imagens, audio, fontes), Stdlib, Limits, Math ,Time"
   ]
  },
  {
   "cell_type": "markdown",
   "metadata": {},
   "source": [
    "##  Estruturas:"
   ]
  },
  {
   "cell_type": "markdown",
   "metadata": {},
   "source": [
    "## Jogo:"
   ]
  },
  {
   "cell_type": "markdown",
   "metadata": {},
   "source": [
    "Estrutura Principal do programa, responsavél por armazenar e controlar os dados relacionados a interface gráfica e estrutura de dados utilizadas durante a execução do programa"
   ]
  },
  {
   "cell_type": "markdown",
   "metadata": {},
   "source": [
    "## Desenho:"
   ]
  },
  {
   "cell_type": "markdown",
   "metadata": {},
   "source": [
    "Estrutura responsavél por armazenar o sprite, a posicão do elemento na tela, e outros valores auxiliares na execução de diretivas internas do progarma"
   ]
  },
  {
   "cell_type": "markdown",
   "metadata": {},
   "source": [
    "## Coordenada:"
   ]
  },
  {
   "cell_type": "markdown",
   "metadata": {},
   "source": [
    "Estrutura utilizada para armazenar a posição do elemento na tela, sendo utilizada principalmente pela estrutura Desenho e na renderização dos sprites durante a execução do programa"
   ]
  },
  {
   "cell_type": "markdown",
   "metadata": {},
   "source": [
    "## Lista Desenho:"
   ]
  },
  {
   "cell_type": "markdown",
   "metadata": {},
   "source": [
    "Estrutura de Dados do tipo ArrayList Responsavél por armazenar os desenhos exibidos na tela "
   ]
  },
  {
   "cell_type": "markdown",
   "metadata": {},
   "source": [
    "## Jogador:"
   ]
  },
  {
   "cell_type": "markdown",
   "metadata": {},
   "source": [
    "Estrutura responsavél por armazenar os dados relacionados ao jogador, contendo o sprite a ser renderizado na tela , a Coordenada do elemento na tela, a pontuação e a vida do jogador"
   ]
  },
  {
   "cell_type": "markdown",
   "metadata": {},
   "source": [
    "# Esquema das Estruturas:"
   ]
  },
  {
   "cell_type": "markdown",
   "metadata": {},
   "source": [
    "<img src=\"Diagrama1.png\">"
   ]
  },
  {
   "cell_type": "markdown",
   "metadata": {},
   "source": [
    "# Funções e Procedimentos Utilizadas da Biblioteca Allegro e Dependências"
   ]
  },
  {
   "cell_type": "markdown",
   "metadata": {},
   "source": [
    "## Procedimentos de Inicialização:"
   ]
  },
  {
   "cell_type": "markdown",
   "metadata": {},
   "source": [
    "al_init() : Função responsavél por inicializar os componetes básicos da biblioteca \n"
   ]
  },
  {
   "cell_type": "markdown",
   "metadata": {},
   "source": [
    "al_init_image_addon() : Função responsavél por inicializar os componetes relacionados a maipulação de imagens da biblioteca Allegro_Images    "
   ]
  },
  {
   "cell_type": "markdown",
   "metadata": {},
   "source": [
    "al_init_font_addon() : Função responsavél por inicializar os componentes relacionados a manipulação de fontes de texto da biblioteca Allegro_Fonts"
   ]
  },
  {
   "cell_type": "markdown",
   "metadata": {},
   "source": [
    "al_init_ttf_addon() : Função responsavél por inicializar os componentes relacionados a manipulacão de fontes true type (ttf) da biblioteca Allegro_ttf"
   ]
  },
  {
   "cell_type": "markdown",
   "metadata": {},
   "source": [
    "al_init_acodec_addon() : Função responsavél por inicializar os componentes relacionados ao controle de audio da biblioteca Allegro_Acodec"
   ]
  },
  {
   "cell_type": "markdown",
   "metadata": {},
   "source": [
    "## Procedimentos de Instalação:"
   ]
  },
  {
   "cell_type": "markdown",
   "metadata": {},
   "source": [
    "al_install_keyboard() : Resposavél por preparar a execução de eventos relacionados ao teclado"
   ]
  },
  {
   "cell_type": "markdown",
   "metadata": {},
   "source": [
    "al_install_audio(): Resposavél por preparar a execução de eventos relacionados ao som"
   ]
  },
  {
   "cell_type": "markdown",
   "metadata": {},
   "source": [
    "al_register_event_source : Responsavél por interpretar os eventos vindos dos dispositivos de entrada e saída"
   ]
  },
  {
   "cell_type": "markdown",
   "metadata": {},
   "source": [
    "## Funções de Instânciação:"
   ]
  },
  {
   "cell_type": "markdown",
   "metadata": {},
   "source": [
    "al_create_bitmap : Responsavél por instânciar um ponteiro para uma estrutura do tipo ALLEGRO_BITMAP"
   ]
  },
  {
   "cell_type": "markdown",
   "metadata": {},
   "source": [
    "al_create_thread : Responsavél por instânciar um ponteiro para uma estrutura do tipo ALLEGRO_THREAD"
   ]
  },
  {
   "cell_type": "markdown",
   "metadata": {},
   "source": [
    "al_create_timer : Responsavél por instânciar um ponteiro para uma estrutuar do tipo ALLEGRO_TIMER"
   ]
  },
  {
   "cell_type": "markdown",
   "metadata": {},
   "source": [
    "al_create_display : Responsavél por instânciar um ponteiro para uma estrutura do tipo ALLEGRO_DISPLAY"
   ]
  },
  {
   "cell_type": "markdown",
   "metadata": {},
   "source": [
    "al_create_event_queue : Responsavél por instânciar um ponteiro para uma estrutura do tipo ALLEGRO_EVENT_QUEUE"
   ]
  },
  {
   "cell_type": "markdown",
   "metadata": {},
   "source": [
    "## Funcões de Carremagento de Disco:"
   ]
  },
  {
   "cell_type": "markdown",
   "metadata": {},
   "source": [
    "al_load_font : Carrega um arquivo do tipo ttf (True Type Fonts) para uma variavél do tipo ALLEGRO_FONT"
   ]
  },
  {
   "cell_type": "markdown",
   "metadata": {},
   "source": [
    "al_load_bitmap : Carrega um arquivo de imagem para uma variavél do tipo ALLEGRO_BITMAP"
   ]
  },
  {
   "cell_type": "markdown",
   "metadata": {},
   "source": [
    "al_load_sample : Carrega um arquivo de audio para uma variavél do tipo ALLEGRO_SAMPLE"
   ]
  },
  {
   "cell_type": "markdown",
   "metadata": {},
   "source": [
    "## Procedimeontos de Remoção (Destrução)"
   ]
  },
  {
   "cell_type": "markdown",
   "metadata": {},
   "source": [
    "al_destroy_sample : Desintância uma variavél do tipo ALLEGRO_SAMPLE"
   ]
  },
  {
   "cell_type": "markdown",
   "metadata": {},
   "source": [
    "al_destroy_font : Desintância uma variavél do tipo ALLEGRO_FONT"
   ]
  },
  {
   "cell_type": "markdown",
   "metadata": {},
   "source": [
    "al_destroy_event_queue : Desinstância uma variavél do tipo ALLEGRO_EVENT_QUEUE"
   ]
  },
  {
   "cell_type": "markdown",
   "metadata": {},
   "source": [
    "al_destroy_display : Desinstância uma variavél do tipo ALLEGRO_DISPLAY"
   ]
  },
  {
   "cell_type": "markdown",
   "metadata": {},
   "source": [
    "al_destroy_thread : Desinstância uma variavél do tipo ALLEGRO_THREAD"
   ]
  },
  {
   "cell_type": "markdown",
   "metadata": {},
   "source": [
    "al_destroy_bitmap : Desintância uma variavél do tipo ALLEGO_BITMAP"
   ]
  },
  {
   "cell_type": "markdown",
   "metadata": {},
   "source": [
    "## Porcedimentos/Funções e Recuperação de Definição (Get  e Set):"
   ]
  },
  {
   "cell_type": "markdown",
   "metadata": {},
   "source": [
    "al_set_window_title : Difine o título de uma Janela"
   ]
  },
  {
   "cell_type": "markdown",
   "metadata": {},
   "source": [
    "al_set_target_bitmap : Define qual variavél do tipo ALLEGRO_BITMAP vai ser usada para as funçoes de desenho(draw)"
   ]
  },
  {
   "cell_type": "markdown",
   "metadata": {},
   "source": [
    "al_get_backbuffer : Retorna um ponteiro para a janela utilizada ( ALLEGRO_DISPLAY )"
   ]
  },
  {
   "cell_type": "markdown",
   "metadata": {},
   "source": [
    "## Procedimentos de Desenho (Draw):"
   ]
  },
  {
   "cell_type": "markdown",
   "metadata": {},
   "source": [
    "al_draw_rotated_bitmap : Desenha um elemento do tipo ALLEGRO_BITMAP com o atributo de ângulo"
   ]
  },
  {
   "cell_type": "markdown",
   "metadata": {},
   "source": [
    "al_draw_bitmap : Desnha um elemento do tipo ALLEGO_BITMAP"
   ]
  },
  {
   "cell_type": "markdown",
   "metadata": {},
   "source": [
    "al_draw_textf : Desenha um texto formatado semelhante ao precedimento printf()"
   ]
  },
  {
   "cell_type": "markdown",
   "metadata": {},
   "source": [
    "## Procedimentos/Funções Orientados à Eventos:\n"
   ]
  },
  {
   "cell_type": "markdown",
   "metadata": {},
   "source": [
    "al_wait_for_event : Responsavél por aguardar a chegada de um evento do tipo ALLEGRO_EVENT registrado em uma variavél do tipo ALLEGRO_EVENT_QUEUE"
   ]
  },
  {
   "cell_type": "markdown",
   "metadata": {},
   "source": [
    "al_is_event_queue_empty : Verifica se uma variavél do tipo ALLEGRO_EVENT_QUEUE está vazia"
   ]
  },
  {
   "cell_type": "markdown",
   "metadata": {},
   "source": [
    "al_start_timer : registra a inicialização de uma variavél do tipo ALLEGRO_TIMER\n"
   ]
  },
  {
   "cell_type": "markdown",
   "metadata": {},
   "source": [
    "al_start_thread : Inicializa uma variavél do tipo ALLEGRO_THREAD (processo de um processo)"
   ]
  },
  {
   "cell_type": "markdown",
   "metadata": {},
   "source": [
    "al_lock_mutex : Responsavél por travar um  ou mais endereços de memória \n"
   ]
  },
  {
   "cell_type": "markdown",
   "metadata": {},
   "source": [
    "al_unlock_mutex : Responsavél por destravar um ou mais endereços de memória"
   ]
  },
  {
   "cell_type": "markdown",
   "metadata": {},
   "source": [
    "## Demais Procedimentos:"
   ]
  },
  {
   "cell_type": "markdown",
   "metadata": {},
   "source": [
    "al_play_sample : executa um audio do tipo ALLEGRO_SAMPLE"
   ]
  },
  {
   "cell_type": "markdown",
   "metadata": {},
   "source": [
    "al_flip_display : Atualiza a tela "
   ]
  },
  {
   "cell_type": "markdown",
   "metadata": {},
   "source": [
    "al_reserve_samples : Reserva uma quantidade x de canias de audio no mixer principal no Sistema Operacional"
   ]
  },
  {
   "cell_type": "markdown",
   "metadata": {},
   "source": [
    "# Funçõe e Procedimentos das Bibliotecas Pessoais:"
   ]
  },
  {
   "cell_type": "markdown",
   "metadata": {},
   "source": [
    "## JogoThreads.h"
   ]
  },
  {
   "cell_type": "markdown",
   "metadata": {},
   "source": [
    "void teclado(ALLEGRO_THREAD *thread,void *param): Procedimento executado em uma thread para controlar os eventos vindos dos dispositivos de entrada do Sistema Operacional"
   ]
  },
  {
   "cell_type": "markdown",
   "metadata": {},
   "source": [
    "void atualizaPosicao(Coordenada *posicao) : Responsavél por atualizar as coordenadas do Jogador"
   ]
  },
  {
   "cell_type": "markdown",
   "metadata": {},
   "source": [
    "void atualizaDesenhos(ListaDesenho *lista,ALLEGRO_BITMAP *sprite , Coordenada *posicao): Responsavél por atualizar os desenhos á serem exibidos na tela\n"
   ]
  },
  {
   "cell_type": "markdown",
   "metadata": {},
   "source": [
    "## Jogo.h"
   ]
  },
  {
   "cell_type": "markdown",
   "metadata": {},
   "source": [
    "void initJogo(Jogo *novo): Responsavél por preparar e inicializar as dependências para a execução do programa\n"
   ]
  },
  {
   "cell_type": "markdown",
   "metadata": {},
   "source": [
    "Jogo *novoJogo(int w,int h) : Respinsavél por instânciar e alocar um ponteiro para uma estrutura do tipo Jogo\n"
   ]
  },
  {
   "cell_type": "markdown",
   "metadata": {},
   "source": [
    "void atualiza() : Responsavél por atualizar a tela"
   ]
  },
  {
   "cell_type": "markdown",
   "metadata": {},
   "source": [
    "void finaliza() : Responsavél por disinstânciar as variavéis da estrutura do tipo Jogo\n"
   ]
  }
 ],
 "metadata": {
  "kernelspec": {
   "display_name": "Python 2",
   "language": "python",
   "name": "python2"
  },
  "language_info": {
   "codemirror_mode": {
    "name": "ipython",
    "version": 2
   },
   "file_extension": ".py",
   "mimetype": "text/x-python",
   "name": "python",
   "nbconvert_exporter": "python",
   "pygments_lexer": "ipython2",
   "version": "2.7.13"
  }
 },
 "nbformat": 4,
 "nbformat_minor": 2
}
